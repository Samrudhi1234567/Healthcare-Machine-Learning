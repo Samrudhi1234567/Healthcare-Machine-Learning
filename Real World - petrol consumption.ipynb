{
 "cells": [
  {
   "cell_type": "code",
   "execution_count": 1,
   "id": "8139df24",
   "metadata": {},
   "outputs": [],
   "source": [
    "import pandas as pd\n",
    "import numpy as np"
   ]
  },
  {
   "cell_type": "code",
   "execution_count": 2,
   "id": "cfcfd355",
   "metadata": {},
   "outputs": [],
   "source": [
    "data = pd.read_csv(r\"C:\\Users\\SHREE\\Desktop\\Samrudhi\\sam\\petrol consumption on ML model.csv\")"
   ]
  },
  {
   "cell_type": "code",
   "execution_count": 3,
   "id": "1c1b5d30",
   "metadata": {},
   "outputs": [
    {
     "data": {
      "text/html": [
       "<div>\n",
       "<style scoped>\n",
       "    .dataframe tbody tr th:only-of-type {\n",
       "        vertical-align: middle;\n",
       "    }\n",
       "\n",
       "    .dataframe tbody tr th {\n",
       "        vertical-align: top;\n",
       "    }\n",
       "\n",
       "    .dataframe thead th {\n",
       "        text-align: right;\n",
       "    }\n",
       "</style>\n",
       "<table border=\"1\" class=\"dataframe\">\n",
       "  <thead>\n",
       "    <tr style=\"text-align: right;\">\n",
       "      <th></th>\n",
       "      <th>Index</th>\n",
       "      <th>Petrol tax (cents per gallon)</th>\n",
       "      <th>Average income (dollars)</th>\n",
       "      <th>Paved Highways (miles)</th>\n",
       "      <th>Population_Driver_licence(%)</th>\n",
       "      <th>Consumption of petrol (millions of gallons)</th>\n",
       "    </tr>\n",
       "  </thead>\n",
       "  <tbody>\n",
       "    <tr>\n",
       "      <th>0</th>\n",
       "      <td>1</td>\n",
       "      <td>9.0</td>\n",
       "      <td>3571</td>\n",
       "      <td>1976</td>\n",
       "      <td>0.525</td>\n",
       "      <td>541</td>\n",
       "    </tr>\n",
       "    <tr>\n",
       "      <th>1</th>\n",
       "      <td>2</td>\n",
       "      <td>9.0</td>\n",
       "      <td>4092</td>\n",
       "      <td>1250</td>\n",
       "      <td>0.572</td>\n",
       "      <td>524</td>\n",
       "    </tr>\n",
       "    <tr>\n",
       "      <th>2</th>\n",
       "      <td>3</td>\n",
       "      <td>9.0</td>\n",
       "      <td>3865</td>\n",
       "      <td>1586</td>\n",
       "      <td>0.580</td>\n",
       "      <td>561</td>\n",
       "    </tr>\n",
       "    <tr>\n",
       "      <th>3</th>\n",
       "      <td>4</td>\n",
       "      <td>7.5</td>\n",
       "      <td>4870</td>\n",
       "      <td>2351</td>\n",
       "      <td>0.529</td>\n",
       "      <td>414</td>\n",
       "    </tr>\n",
       "    <tr>\n",
       "      <th>4</th>\n",
       "      <td>5</td>\n",
       "      <td>8.0</td>\n",
       "      <td>4399</td>\n",
       "      <td>431</td>\n",
       "      <td>0.544</td>\n",
       "      <td>410</td>\n",
       "    </tr>\n",
       "    <tr>\n",
       "      <th>5</th>\n",
       "      <td>6</td>\n",
       "      <td>10.0</td>\n",
       "      <td>5342</td>\n",
       "      <td>1333</td>\n",
       "      <td>0.571</td>\n",
       "      <td>457</td>\n",
       "    </tr>\n",
       "    <tr>\n",
       "      <th>6</th>\n",
       "      <td>7</td>\n",
       "      <td>8.0</td>\n",
       "      <td>5319</td>\n",
       "      <td>11868</td>\n",
       "      <td>0.451</td>\n",
       "      <td>344</td>\n",
       "    </tr>\n",
       "    <tr>\n",
       "      <th>7</th>\n",
       "      <td>8</td>\n",
       "      <td>8.0</td>\n",
       "      <td>5126</td>\n",
       "      <td>2138</td>\n",
       "      <td>0.553</td>\n",
       "      <td>467</td>\n",
       "    </tr>\n",
       "    <tr>\n",
       "      <th>8</th>\n",
       "      <td>9</td>\n",
       "      <td>8.0</td>\n",
       "      <td>4447</td>\n",
       "      <td>8577</td>\n",
       "      <td>0.529</td>\n",
       "      <td>464</td>\n",
       "    </tr>\n",
       "    <tr>\n",
       "      <th>9</th>\n",
       "      <td>10</td>\n",
       "      <td>7.0</td>\n",
       "      <td>4512</td>\n",
       "      <td>8507</td>\n",
       "      <td>0.552</td>\n",
       "      <td>498</td>\n",
       "    </tr>\n",
       "  </tbody>\n",
       "</table>\n",
       "</div>"
      ],
      "text/plain": [
       "   Index  Petrol tax (cents per gallon)  Average income (dollars)  \\\n",
       "0      1                            9.0                      3571   \n",
       "1      2                            9.0                      4092   \n",
       "2      3                            9.0                      3865   \n",
       "3      4                            7.5                      4870   \n",
       "4      5                            8.0                      4399   \n",
       "5      6                           10.0                      5342   \n",
       "6      7                            8.0                      5319   \n",
       "7      8                            8.0                      5126   \n",
       "8      9                            8.0                      4447   \n",
       "9     10                            7.0                      4512   \n",
       "\n",
       "   Paved Highways (miles)  Population_Driver_licence(%)  \\\n",
       "0                    1976                         0.525   \n",
       "1                    1250                         0.572   \n",
       "2                    1586                         0.580   \n",
       "3                    2351                         0.529   \n",
       "4                     431                         0.544   \n",
       "5                    1333                         0.571   \n",
       "6                   11868                         0.451   \n",
       "7                    2138                         0.553   \n",
       "8                    8577                         0.529   \n",
       "9                    8507                         0.552   \n",
       "\n",
       "   Consumption of petrol (millions of gallons)  \n",
       "0                                          541  \n",
       "1                                          524  \n",
       "2                                          561  \n",
       "3                                          414  \n",
       "4                                          410  \n",
       "5                                          457  \n",
       "6                                          344  \n",
       "7                                          467  \n",
       "8                                          464  \n",
       "9                                          498  "
      ]
     },
     "execution_count": 3,
     "metadata": {},
     "output_type": "execute_result"
    }
   ],
   "source": [
    "data.head(10)"
   ]
  },
  {
   "cell_type": "code",
   "execution_count": 4,
   "id": "1d04d682",
   "metadata": {},
   "outputs": [
    {
     "data": {
      "text/html": [
       "<div>\n",
       "<style scoped>\n",
       "    .dataframe tbody tr th:only-of-type {\n",
       "        vertical-align: middle;\n",
       "    }\n",
       "\n",
       "    .dataframe tbody tr th {\n",
       "        vertical-align: top;\n",
       "    }\n",
       "\n",
       "    .dataframe thead th {\n",
       "        text-align: right;\n",
       "    }\n",
       "</style>\n",
       "<table border=\"1\" class=\"dataframe\">\n",
       "  <thead>\n",
       "    <tr style=\"text-align: right;\">\n",
       "      <th></th>\n",
       "      <th>Index</th>\n",
       "      <th>Petrol tax (cents per gallon)</th>\n",
       "      <th>Average income (dollars)</th>\n",
       "      <th>Paved Highways (miles)</th>\n",
       "      <th>Population_Driver_licence(%)</th>\n",
       "      <th>Consumption of petrol (millions of gallons)</th>\n",
       "    </tr>\n",
       "  </thead>\n",
       "  <tbody>\n",
       "    <tr>\n",
       "      <th>count</th>\n",
       "      <td>48.00</td>\n",
       "      <td>48.000000</td>\n",
       "      <td>48.000000</td>\n",
       "      <td>48.000000</td>\n",
       "      <td>48.000000</td>\n",
       "      <td>48.000000</td>\n",
       "    </tr>\n",
       "    <tr>\n",
       "      <th>mean</th>\n",
       "      <td>24.50</td>\n",
       "      <td>7.668333</td>\n",
       "      <td>4241.833333</td>\n",
       "      <td>5565.416667</td>\n",
       "      <td>0.570333</td>\n",
       "      <td>576.770833</td>\n",
       "    </tr>\n",
       "    <tr>\n",
       "      <th>std</th>\n",
       "      <td>14.00</td>\n",
       "      <td>0.950770</td>\n",
       "      <td>573.623768</td>\n",
       "      <td>3491.507166</td>\n",
       "      <td>0.055470</td>\n",
       "      <td>111.885816</td>\n",
       "    </tr>\n",
       "    <tr>\n",
       "      <th>min</th>\n",
       "      <td>1.00</td>\n",
       "      <td>5.000000</td>\n",
       "      <td>3063.000000</td>\n",
       "      <td>431.000000</td>\n",
       "      <td>0.451000</td>\n",
       "      <td>344.000000</td>\n",
       "    </tr>\n",
       "    <tr>\n",
       "      <th>25%</th>\n",
       "      <td>12.75</td>\n",
       "      <td>7.000000</td>\n",
       "      <td>3739.000000</td>\n",
       "      <td>3110.250000</td>\n",
       "      <td>0.529750</td>\n",
       "      <td>509.500000</td>\n",
       "    </tr>\n",
       "    <tr>\n",
       "      <th>50%</th>\n",
       "      <td>24.50</td>\n",
       "      <td>7.500000</td>\n",
       "      <td>4298.000000</td>\n",
       "      <td>4735.500000</td>\n",
       "      <td>0.564500</td>\n",
       "      <td>568.500000</td>\n",
       "    </tr>\n",
       "    <tr>\n",
       "      <th>75%</th>\n",
       "      <td>36.25</td>\n",
       "      <td>8.125000</td>\n",
       "      <td>4578.750000</td>\n",
       "      <td>7156.000000</td>\n",
       "      <td>0.595250</td>\n",
       "      <td>632.750000</td>\n",
       "    </tr>\n",
       "    <tr>\n",
       "      <th>max</th>\n",
       "      <td>48.00</td>\n",
       "      <td>10.000000</td>\n",
       "      <td>5342.000000</td>\n",
       "      <td>17782.000000</td>\n",
       "      <td>0.724000</td>\n",
       "      <td>968.000000</td>\n",
       "    </tr>\n",
       "  </tbody>\n",
       "</table>\n",
       "</div>"
      ],
      "text/plain": [
       "       Index  Petrol tax (cents per gallon)  Average income (dollars)  \\\n",
       "count  48.00                      48.000000                 48.000000   \n",
       "mean   24.50                       7.668333               4241.833333   \n",
       "std    14.00                       0.950770                573.623768   \n",
       "min     1.00                       5.000000               3063.000000   \n",
       "25%    12.75                       7.000000               3739.000000   \n",
       "50%    24.50                       7.500000               4298.000000   \n",
       "75%    36.25                       8.125000               4578.750000   \n",
       "max    48.00                      10.000000               5342.000000   \n",
       "\n",
       "       Paved Highways (miles)  Population_Driver_licence(%)  \\\n",
       "count               48.000000                     48.000000   \n",
       "mean              5565.416667                      0.570333   \n",
       "std               3491.507166                      0.055470   \n",
       "min                431.000000                      0.451000   \n",
       "25%               3110.250000                      0.529750   \n",
       "50%               4735.500000                      0.564500   \n",
       "75%               7156.000000                      0.595250   \n",
       "max              17782.000000                      0.724000   \n",
       "\n",
       "       Consumption of petrol (millions of gallons)  \n",
       "count                                    48.000000  \n",
       "mean                                    576.770833  \n",
       "std                                     111.885816  \n",
       "min                                     344.000000  \n",
       "25%                                     509.500000  \n",
       "50%                                     568.500000  \n",
       "75%                                     632.750000  \n",
       "max                                     968.000000  "
      ]
     },
     "execution_count": 4,
     "metadata": {},
     "output_type": "execute_result"
    }
   ],
   "source": [
    "data.describe()"
   ]
  },
  {
   "cell_type": "code",
   "execution_count": 5,
   "id": "179465c2",
   "metadata": {},
   "outputs": [
    {
     "name": "stdout",
     "output_type": "stream",
     "text": [
      "<class 'pandas.core.frame.DataFrame'>\n",
      "RangeIndex: 48 entries, 0 to 47\n",
      "Data columns (total 6 columns):\n",
      " #   Column                                       Non-Null Count  Dtype  \n",
      "---  ------                                       --------------  -----  \n",
      " 0   Index                                        48 non-null     int64  \n",
      " 1   Petrol tax (cents per gallon)                48 non-null     float64\n",
      " 2   Average income (dollars)                     48 non-null     int64  \n",
      " 3   Paved Highways (miles)                       48 non-null     int64  \n",
      " 4   Population_Driver_licence(%)                 48 non-null     float64\n",
      " 5   Consumption of petrol (millions of gallons)  48 non-null     int64  \n",
      "dtypes: float64(2), int64(4)\n",
      "memory usage: 2.4 KB\n"
     ]
    }
   ],
   "source": [
    "data.info()"
   ]
  },
  {
   "cell_type": "code",
   "execution_count": 6,
   "id": "16492537",
   "metadata": {},
   "outputs": [
    {
     "data": {
      "text/plain": [
       "Index                                          0\n",
       "Petrol tax (cents per gallon)                  0\n",
       "Average income (dollars)                       0\n",
       "Paved Highways (miles)                         0\n",
       "Population_Driver_licence(%)                   0\n",
       "Consumption of petrol (millions of gallons)    0\n",
       "dtype: int64"
      ]
     },
     "execution_count": 6,
     "metadata": {},
     "output_type": "execute_result"
    }
   ],
   "source": [
    "data.isnull().sum()"
   ]
  },
  {
   "cell_type": "code",
   "execution_count": 7,
   "id": "e13f571c",
   "metadata": {},
   "outputs": [
    {
     "data": {
      "text/plain": [
       "<Axes: >"
      ]
     },
     "execution_count": 7,
     "metadata": {},
     "output_type": "execute_result"
    },
    {
     "data": {
      "image/png": "[encoded data removed]",
      "text/plain": [
       "<Figure size 640x480 with 1 Axes>"
      ]
     },
     "metadata": {},
     "output_type": "display_data"
    }
   ],
   "source": [
    "data.plot (kind = \"box\")"
   ]
  },
  {
   "cell_type": "code",
   "execution_count": 8,
   "id": "4a917d55",
   "metadata": {},
   "outputs": [
    {
     "data": {
      "text/plain": [
       "<Axes: >"
      ]
     },
     "execution_count": 8,
     "metadata": {},
     "output_type": "execute_result"
    },
    {
     "data": {
      "image/png": "[encoded data removed]",
      "text/plain": [
       "<Figure size 640x480 with 1 Axes>"
      ]
     },
     "metadata": {},
     "output_type": "display_data"
    }
   ],
   "source": [
    "data[\"Petrol tax (cents per gallon)\"].plot (kind = \"box\")"
   ]
  },
  {
   "cell_type": "code",
   "execution_count": 9,
   "id": "32fa5862",
   "metadata": {},
   "outputs": [
    {
     "data": {
      "text/plain": [
       "8.125"
      ]
     },
     "execution_count": 9,
     "metadata": {},
     "output_type": "execute_result"
    }
   ],
   "source": [
    "q3 = data[\"Petrol tax (cents per gallon)\"].quantile(0.75)\n",
    "q3"
   ]
  },
  {
   "cell_type": "code",
   "execution_count": 10,
   "id": "3554784e",
   "metadata": {},
   "outputs": [
    {
     "data": {
      "text/plain": [
       "7.0"
      ]
     },
     "execution_count": 10,
     "metadata": {},
     "output_type": "execute_result"
    }
   ],
   "source": [
    "q1 = data[\"Petrol tax (cents per gallon)\"].quantile(0.25)\n",
    "q1"
   ]
  },
  {
   "cell_type": "code",
   "execution_count": 11,
   "id": "7cf5b805",
   "metadata": {},
   "outputs": [
    {
     "data": {
      "text/plain": [
       "1.125"
      ]
     },
     "execution_count": 11,
     "metadata": {},
     "output_type": "execute_result"
    }
   ],
   "source": [
    "iqr_petrol_tax = q3-q1\n",
    "iqr_petrol_tax"
   ]
  },
  {
   "cell_type": "code",
   "execution_count": 12,
   "id": "67dec0ce",
   "metadata": {},
   "outputs": [
    {
     "data": {
      "text/plain": [
       "9.8125"
      ]
     },
     "execution_count": 12,
     "metadata": {},
     "output_type": "execute_result"
    }
   ],
   "source": [
    "Uledge_petrol_tax = q3 + (1.5*iqr_petrol_tax)\n",
    "Uledge_petrol_tax"
   ]
  },
  {
   "cell_type": "code",
   "execution_count": 13,
   "id": "cc08a43f",
   "metadata": {},
   "outputs": [],
   "source": [
    "petrol_tax_dummy = []\n",
    "for i in data[\"Petrol tax (cents per gallon)\"]:\n",
    "    if i > 9.8125:\n",
    "        petrol_tax_dummy.append(9.8125)\n",
    "    else:\n",
    "        petrol_tax_dummy.append(i)"
   ]
  },
  {
   "cell_type": "code",
   "execution_count": 14,
   "id": "b78adacd",
   "metadata": {},
   "outputs": [],
   "source": [
    "data[\"petrol_tax_dummy\"] = petrol_tax_dummy"
   ]
  },
  {
   "cell_type": "code",
   "execution_count": 15,
   "id": "9ff7ad80",
   "metadata": {},
   "outputs": [
    {
     "data": {
      "text/plain": [
       "5.3125"
      ]
     },
     "execution_count": 15,
     "metadata": {},
     "output_type": "execute_result"
    }
   ],
   "source": [
    "Lledge_petrol_tax = q1 - (1.5*iqr_petrol_tax)\n",
    "Lledge_petrol_tax"
   ]
  },
  {
   "cell_type": "code",
   "execution_count": 16,
   "id": "2f3e7067",
   "metadata": {},
   "outputs": [],
   "source": [
    "petrol_tax_dummy1 = []\n",
    "for i in data[\"petrol_tax_dummy\"]:\n",
    "    if i < 5.3125:\n",
    "        petrol_tax_dummy1.append(5.3125)\n",
    "    else:\n",
    "        petrol_tax_dummy1.append(i)"
   ]
  },
  {
   "cell_type": "code",
   "execution_count": 17,
   "id": "46fd0fbf",
   "metadata": {},
   "outputs": [],
   "source": [
    "data[\"petrol_tax_dummy1\"] = petrol_tax_dummy1"
   ]
  },
  {
   "cell_type": "code",
   "execution_count": 18,
   "id": "7652de2d",
   "metadata": {},
   "outputs": [
    {
     "data": {
      "text/plain": [
       "<Axes: >"
      ]
     },
     "execution_count": 18,
     "metadata": {},
     "output_type": "execute_result"
    },
    {
     "data": {
      "image/png": "[encoded data removed]",
      "text/plain": [
       "<Figure size 640x480 with 1 Axes>"
      ]
     },
     "metadata": {},
     "output_type": "display_data"
    }
   ],
   "source": [
    "data[\"petrol_tax_dummy1\"].plot (kind = \"box\")"
   ]
  },
  {
   "cell_type": "code",
   "execution_count": 19,
   "id": "745df74e",
   "metadata": {},
   "outputs": [
    {
     "data": {
      "text/plain": [
       "<Axes: >"
      ]
     },
     "execution_count": 19,
     "metadata": {},
     "output_type": "execute_result"
    },
    {
     "data": {
      "image/png": "[encoded data removed]",
      "text/plain": [
       "<Figure size 640x480 with 1 Axes>"
      ]
     },
     "metadata": {},
     "output_type": "display_data"
    }
   ],
   "source": [
    "data[\"Average income (dollars)\"].plot (kind = \"box\")"
   ]
  },
  {
   "cell_type": "code",
   "execution_count": 20,
   "id": "d33b1a73",
   "metadata": {},
   "outputs": [
    {
     "data": {
      "text/plain": [
       "<Axes: >"
      ]
     },
     "execution_count": 20,
     "metadata": {},
     "output_type": "execute_result"
    },
    {
     "data": {
      "image/png": "[encoded data removed]",
      "text/plain": [
       "<Figure size 640x480 with 1 Axes>"
      ]
     },
     "metadata": {},
     "output_type": "display_data"
    }
   ],
   "source": [
    "data[\"Paved Highways (miles)\"].plot (kind = \"box\")"
   ]
  },
  {
   "cell_type": "code",
   "execution_count": 21,
   "id": "5666312f",
   "metadata": {},
   "outputs": [
    {
     "data": {
      "text/plain": [
       "7156.0"
      ]
     },
     "execution_count": 21,
     "metadata": {},
     "output_type": "execute_result"
    }
   ],
   "source": [
    "q3 = data[\"Paved Highways (miles)\"].quantile(0.75)\n",
    "q3"
   ]
  },
  {
   "cell_type": "code",
   "execution_count": 22,
   "id": "7b205cce",
   "metadata": {},
   "outputs": [
    {
     "data": {
      "text/plain": [
       "3110.25"
      ]
     },
     "execution_count": 22,
     "metadata": {},
     "output_type": "execute_result"
    }
   ],
   "source": [
    "q1 = data[\"Paved Highways (miles)\"].quantile(0.25)\n",
    "q1"
   ]
  },
  {
   "cell_type": "code",
   "execution_count": 23,
   "id": "ea5790ea",
   "metadata": {},
   "outputs": [
    {
     "data": {
      "text/plain": [
       "4045.75"
      ]
     },
     "execution_count": 23,
     "metadata": {},
     "output_type": "execute_result"
    }
   ],
   "source": [
    "iqr_paved_highway = q3-q1\n",
    "iqr_paved_highway"
   ]
  },
  {
   "cell_type": "code",
   "execution_count": 24,
   "id": "c0b674cc",
   "metadata": {},
   "outputs": [
    {
     "data": {
      "text/plain": [
       "13224.625"
      ]
     },
     "execution_count": 24,
     "metadata": {},
     "output_type": "execute_result"
    }
   ],
   "source": [
    "Uledge_paved_highway = q3 + (1.5*iqr_paved_highway)\n",
    "Uledge_paved_highway"
   ]
  },
  {
   "cell_type": "code",
   "execution_count": 25,
   "id": "a90bf3c1",
   "metadata": {},
   "outputs": [],
   "source": [
    "paved_highway_dummy = []\n",
    "for i in data[\"Paved Highways (miles)\"]:\n",
    "    if i > 13224.625:\n",
    "        paved_highway_dummy.append(13224.625)\n",
    "    else:\n",
    "        paved_highway_dummy.append(i)"
   ]
  },
  {
   "cell_type": "code",
   "execution_count": 26,
   "id": "ebb5cd89",
   "metadata": {},
   "outputs": [],
   "source": [
    "data[\"paved_highway_dummy\"] = paved_highway_dummy"
   ]
  },
  {
   "cell_type": "code",
   "execution_count": 27,
   "id": "d8f4a067",
   "metadata": {},
   "outputs": [
    {
     "data": {
      "text/plain": [
       "<Axes: >"
      ]
     },
     "execution_count": 27,
     "metadata": {},
     "output_type": "execute_result"
    },
    {
     "data": {
      "image/png": "[encoded data removed]",
      "text/plain": [
       "<Figure size 640x480 with 1 Axes>"
      ]
     },
     "metadata": {},
     "output_type": "display_data"
    }
   ],
   "source": [
    "data[\"paved_highway_dummy\"].plot (kind = \"box\")"
   ]
  },
  {
   "cell_type": "code",
   "execution_count": 28,
   "id": "af7369c9",
   "metadata": {},
   "outputs": [
    {
     "data": {
      "text/plain": [
       "<Axes: >"
      ]
     },
     "execution_count": 28,
     "metadata": {},
     "output_type": "execute_result"
    },
    {
     "data": {
      "image/png": "[encoded data removed]",
      "text/plain": [
       "<Figure size 640x480 with 1 Axes>"
      ]
     },
     "metadata": {},
     "output_type": "display_data"
    }
   ],
   "source": [
    "data[\"Population_Driver_licence(%)\"].plot (kind = \"box\")"
   ]
  },
  {
   "cell_type": "code",
   "execution_count": 29,
   "id": "a0694bfc",
   "metadata": {},
   "outputs": [
    {
     "data": {
      "text/plain": [
       "0.59525"
      ]
     },
     "execution_count": 29,
     "metadata": {},
     "output_type": "execute_result"
    }
   ],
   "source": [
    "q3 = data[\"Population_Driver_licence(%)\"].quantile(0.75)\n",
    "q3"
   ]
  },
  {
   "cell_type": "code",
   "execution_count": 30,
   "id": "ea029fae",
   "metadata": {},
   "outputs": [
    {
     "data": {
      "text/plain": [
       "0.52975"
      ]
     },
     "execution_count": 30,
     "metadata": {},
     "output_type": "execute_result"
    }
   ],
   "source": [
    "q1 = data[\"Population_Driver_licence(%)\"].quantile(0.25)\n",
    "q1"
   ]
  },
  {
   "cell_type": "code",
   "execution_count": 31,
   "id": "87bdca5c",
   "metadata": {},
   "outputs": [
    {
     "data": {
      "text/plain": [
       "0.06549999999999989"
      ]
     },
     "execution_count": 31,
     "metadata": {},
     "output_type": "execute_result"
    }
   ],
   "source": [
    "iqr_dr_license = q3-q1\n",
    "iqr_dr_license"
   ]
  },
  {
   "cell_type": "code",
   "execution_count": 32,
   "id": "1976dac7",
   "metadata": {},
   "outputs": [
    {
     "data": {
      "text/plain": [
       "0.6934999999999998"
      ]
     },
     "execution_count": 32,
     "metadata": {},
     "output_type": "execute_result"
    }
   ],
   "source": [
    "Uledge_dr_license = q3 + (1.5*iqr_dr_license)\n",
    "Uledge_dr_license"
   ]
  },
  {
   "cell_type": "code",
   "execution_count": 33,
   "id": "5b52c9d3",
   "metadata": {},
   "outputs": [],
   "source": [
    "dr_license_dummy = []\n",
    "for i in data[\"Population_Driver_licence(%)\"]:\n",
    "    if i > 0.6934:\n",
    "        dr_license_dummy.append(0.6934)\n",
    "    else:\n",
    "        dr_license_dummy.append(i)"
   ]
  },
  {
   "cell_type": "code",
   "execution_count": 34,
   "id": "7ec0242f",
   "metadata": {},
   "outputs": [],
   "source": [
    "data[\"dr_license_dummy\"] = dr_license_dummy"
   ]
  },
  {
   "cell_type": "code",
   "execution_count": 35,
   "id": "a861b2f5",
   "metadata": {},
   "outputs": [
    {
     "data": {
      "text/plain": [
       "<Axes: >"
      ]
     },
     "execution_count": 35,
     "metadata": {},
     "output_type": "execute_result"
    },
    {
     "data": {
      "image/png": "[encoded data removed]",
      "text/plain": [
       "<Figure size 640x480 with 1 Axes>"
      ]
     },
     "metadata": {},
     "output_type": "display_data"
    }
   ],
   "source": [
    "data[\"dr_license_dummy\"].plot (kind = \"box\")"
   ]
  },
  {
   "cell_type": "code",
   "execution_count": 36,
   "id": "1b7fef5b",
   "metadata": {},
   "outputs": [
    {
     "data": {
      "text/plain": [
       "<Axes: >"
      ]
     },
     "execution_count": 36,
     "metadata": {},
     "output_type": "execute_result"
    },
    {
     "data": {
      "image/png": "[encoded data removed]",
      "text/plain": [
       "<Figure size 640x480 with 1 Axes>"
      ]
     },
     "metadata": {},
     "output_type": "display_data"
    }
   ],
   "source": [
    "data[\"Consumption of petrol (millions of gallons)\"].plot (kind = \"box\")"
   ]
  },
  {
   "cell_type": "code",
   "execution_count": 37,
   "id": "7da959bd",
   "metadata": {},
   "outputs": [
    {
     "data": {
      "text/plain": [
       "632.75"
      ]
     },
     "execution_count": 37,
     "metadata": {},
     "output_type": "execute_result"
    }
   ],
   "source": [
    "q3 = data[\"Consumption of petrol (millions of gallons)\"].quantile(0.75)\n",
    "q3"
   ]
  },
  {
   "cell_type": "code",
   "execution_count": 38,
   "id": "89ff2996",
   "metadata": {},
   "outputs": [
    {
     "data": {
      "text/plain": [
       "509.5"
      ]
     },
     "execution_count": 38,
     "metadata": {},
     "output_type": "execute_result"
    }
   ],
   "source": [
    "q1 = data[\"Consumption of petrol (millions of gallons)\"].quantile(0.25)\n",
    "q1"
   ]
  },
  {
   "cell_type": "code",
   "execution_count": 39,
   "id": "cc47bed4",
   "metadata": {},
   "outputs": [
    {
     "data": {
      "text/plain": [
       "123.25"
      ]
     },
     "execution_count": 39,
     "metadata": {},
     "output_type": "execute_result"
    }
   ],
   "source": [
    "iqr_petrol_consmp = q3-q1\n",
    "iqr_petrol_consmp"
   ]
  },
  {
   "cell_type": "code",
   "execution_count": 40,
   "id": "beb8283e",
   "metadata": {},
   "outputs": [
    {
     "data": {
      "text/plain": [
       "817.625"
      ]
     },
     "execution_count": 40,
     "metadata": {},
     "output_type": "execute_result"
    }
   ],
   "source": [
    "Uledge_petrol_consmp = q3 + (1.5*iqr_petrol_consmp)\n",
    "Uledge_petrol_consmp"
   ]
  },
  {
   "cell_type": "code",
   "execution_count": 41,
   "id": "42dd8b43",
   "metadata": {},
   "outputs": [],
   "source": [
    "petrol_consmp_dummy = []\n",
    "for i in data[\"Consumption of petrol (millions of gallons)\"]:\n",
    "    if i > 817.625:\n",
    "        petrol_consmp_dummy.append(817.625)\n",
    "    else:\n",
    "        petrol_consmp_dummy.append(i)"
   ]
  },
  {
   "cell_type": "code",
   "execution_count": 42,
   "id": "b6cced8e",
   "metadata": {},
   "outputs": [],
   "source": [
    "data[\"petrol_consmp_dummy\"] = petrol_consmp_dummy"
   ]
  },
  {
   "cell_type": "code",
   "execution_count": 43,
   "id": "3ae8e8d2",
   "metadata": {},
   "outputs": [
    {
     "data": {
      "text/plain": [
       "<Axes: >"
      ]
     },
     "execution_count": 43,
     "metadata": {},
     "output_type": "execute_result"
    },
    {
     "data": {
      "image/png": "[encoded data removed]",
      "text/plain": [
       "<Figure size 640x480 with 1 Axes>"
      ]
     },
     "metadata": {},
     "output_type": "display_data"
    }
   ],
   "source": [
    "data[\"petrol_consmp_dummy\"].plot (kind = \"box\")"
   ]
  },
  {
   "cell_type": "code",
   "execution_count": 44,
   "id": "b65c6ad9",
   "metadata": {},
   "outputs": [
    {
     "data": {
      "text/plain": [
       "<Axes: >"
      ]
     },
     "execution_count": 44,
     "metadata": {},
     "output_type": "execute_result"
    },
    {
     "data": {
      "image/png": "[encoded data removed]",
      "text/plain": [
       "<Figure size 640x480 with 1 Axes>"
      ]
     },
     "metadata": {},
     "output_type": "display_data"
    }
   ],
   "source": [
    "data.plot (kind = \"box\")"
   ]
  },
  {
   "cell_type": "code",
   "execution_count": 45,
   "id": "d1319b6b",
   "metadata": {},
   "outputs": [
    {
     "name": "stdout",
     "output_type": "stream",
     "text": [
      "<class 'pandas.core.frame.DataFrame'>\n",
      "RangeIndex: 48 entries, 0 to 47\n",
      "Data columns (total 11 columns):\n",
      " #   Column                                       Non-Null Count  Dtype  \n",
      "---  ------                                       --------------  -----  \n",
      " 0   Index                                        48 non-null     int64  \n",
      " 1   Petrol tax (cents per gallon)                48 non-null     float64\n",
      " 2   Average income (dollars)                     48 non-null     int64  \n",
      " 3   Paved Highways (miles)                       48 non-null     int64  \n",
      " 4   Population_Driver_licence(%)                 48 non-null     float64\n",
      " 5   Consumption of petrol (millions of gallons)  48 non-null     int64  \n",
      " 6   petrol_tax_dummy                             48 non-null     float64\n",
      " 7   petrol_tax_dummy1                            48 non-null     float64\n",
      " 8   paved_highway_dummy                          48 non-null     float64\n",
      " 9   dr_license_dummy                             48 non-null     float64\n",
      " 10  petrol_consmp_dummy                          48 non-null     float64\n",
      "dtypes: float64(7), int64(4)\n",
      "memory usage: 4.2 KB\n"
     ]
    }
   ],
   "source": [
    "data.info()"
   ]
  },
  {
   "cell_type": "code",
   "execution_count": 46,
   "id": "3e7531cf",
   "metadata": {},
   "outputs": [
    {
     "data": {
      "text/plain": [
       "Index                                            int64\n",
       "Petrol tax (cents per gallon)                  float64\n",
       "Average income (dollars)                         int64\n",
       "Paved Highways (miles)                           int64\n",
       "Population_Driver_licence(%)                   float64\n",
       "Consumption of petrol (millions of gallons)      int64\n",
       "petrol_tax_dummy                               float64\n",
       "petrol_tax_dummy1                              float64\n",
       "paved_highway_dummy                            float64\n",
       "dr_license_dummy                               float64\n",
       "petrol_consmp_dummy                            float64\n",
       "dtype: object"
      ]
     },
     "execution_count": 46,
     "metadata": {},
     "output_type": "execute_result"
    }
   ],
   "source": [
    "data.dtypes"
   ]
  },
  {
   "cell_type": "code",
   "execution_count": 47,
   "id": "2db54ce1",
   "metadata": {},
   "outputs": [],
   "source": [
    "data_model = data[[\"petrol_tax_dummy1\", \"Average income (dollars)\", \"paved_highway_dummy\", \"dr_license_dummy\", \"petrol_consmp_dummy\"]]"
   ]
  },
  {
   "cell_type": "code",
   "execution_count": 48,
   "id": "358221fc",
   "metadata": {},
   "outputs": [
    {
     "name": "stdout",
     "output_type": "stream",
     "text": [
      "<class 'pandas.core.frame.DataFrame'>\n",
      "RangeIndex: 48 entries, 0 to 47\n",
      "Data columns (total 5 columns):\n",
      " #   Column                    Non-Null Count  Dtype  \n",
      "---  ------                    --------------  -----  \n",
      " 0   petrol_tax_dummy1         48 non-null     float64\n",
      " 1   Average income (dollars)  48 non-null     int64  \n",
      " 2   paved_highway_dummy       48 non-null     float64\n",
      " 3   dr_license_dummy          48 non-null     float64\n",
      " 4   petrol_consmp_dummy       48 non-null     float64\n",
      "dtypes: float64(4), int64(1)\n",
      "memory usage: 2.0 KB\n"
     ]
    }
   ],
   "source": [
    "data_model.info()"
   ]
  },
  {
   "cell_type": "code",
   "execution_count": 49,
   "id": "2a3ce91f",
   "metadata": {},
   "outputs": [
    {
     "data": {
      "text/html": [
       "<div>\n",
       "<style scoped>\n",
       "    .dataframe tbody tr th:only-of-type {\n",
       "        vertical-align: middle;\n",
       "    }\n",
       "\n",
       "    .dataframe tbody tr th {\n",
       "        vertical-align: top;\n",
       "    }\n",
       "\n",
       "    .dataframe thead th {\n",
       "        text-align: right;\n",
       "    }\n",
       "</style>\n",
       "<table border=\"1\" class=\"dataframe\">\n",
       "  <thead>\n",
       "    <tr style=\"text-align: right;\">\n",
       "      <th></th>\n",
       "      <th>petrol_tax_dummy1</th>\n",
       "      <th>Average income (dollars)</th>\n",
       "      <th>paved_highway_dummy</th>\n",
       "      <th>dr_license_dummy</th>\n",
       "      <th>petrol_consmp_dummy</th>\n",
       "    </tr>\n",
       "  </thead>\n",
       "  <tbody>\n",
       "    <tr>\n",
       "      <th>count</th>\n",
       "      <td>48.000000</td>\n",
       "      <td>48.000000</td>\n",
       "      <td>48.000000</td>\n",
       "      <td>48.000000</td>\n",
       "      <td>48.000000</td>\n",
       "    </tr>\n",
       "    <tr>\n",
       "      <th>mean</th>\n",
       "      <td>7.670937</td>\n",
       "      <td>4241.833333</td>\n",
       "      <td>5450.442708</td>\n",
       "      <td>0.569696</td>\n",
       "      <td>572.651042</td>\n",
       "    </tr>\n",
       "    <tr>\n",
       "      <th>std</th>\n",
       "      <td>0.923415</td>\n",
       "      <td>573.623768</td>\n",
       "      <td>3149.104278</td>\n",
       "      <td>0.053818</td>\n",
       "      <td>99.726961</td>\n",
       "    </tr>\n",
       "    <tr>\n",
       "      <th>min</th>\n",
       "      <td>5.312500</td>\n",
       "      <td>3063.000000</td>\n",
       "      <td>431.000000</td>\n",
       "      <td>0.451000</td>\n",
       "      <td>344.000000</td>\n",
       "    </tr>\n",
       "    <tr>\n",
       "      <th>25%</th>\n",
       "      <td>7.000000</td>\n",
       "      <td>3739.000000</td>\n",
       "      <td>3110.250000</td>\n",
       "      <td>0.529750</td>\n",
       "      <td>509.500000</td>\n",
       "    </tr>\n",
       "    <tr>\n",
       "      <th>50%</th>\n",
       "      <td>7.500000</td>\n",
       "      <td>4298.000000</td>\n",
       "      <td>4735.500000</td>\n",
       "      <td>0.564500</td>\n",
       "      <td>568.500000</td>\n",
       "    </tr>\n",
       "    <tr>\n",
       "      <th>75%</th>\n",
       "      <td>8.125000</td>\n",
       "      <td>4578.750000</td>\n",
       "      <td>7156.000000</td>\n",
       "      <td>0.595250</td>\n",
       "      <td>632.750000</td>\n",
       "    </tr>\n",
       "    <tr>\n",
       "      <th>max</th>\n",
       "      <td>9.812500</td>\n",
       "      <td>5342.000000</td>\n",
       "      <td>13224.625000</td>\n",
       "      <td>0.693400</td>\n",
       "      <td>817.625000</td>\n",
       "    </tr>\n",
       "  </tbody>\n",
       "</table>\n",
       "</div>"
      ],
      "text/plain": [
       "       petrol_tax_dummy1  Average income (dollars)  paved_highway_dummy  \\\n",
       "count          48.000000                 48.000000            48.000000   \n",
       "mean            7.670937               4241.833333          5450.442708   \n",
       "std             0.923415                573.623768          3149.104278   \n",
       "min             5.312500               3063.000000           431.000000   \n",
       "25%             7.000000               3739.000000          3110.250000   \n",
       "50%             7.500000               4298.000000          4735.500000   \n",
       "75%             8.125000               4578.750000          7156.000000   \n",
       "max             9.812500               5342.000000         13224.625000   \n",
       "\n",
       "       dr_license_dummy  petrol_consmp_dummy  \n",
       "count         48.000000            48.000000  \n",
       "mean           0.569696           572.651042  \n",
       "std            0.053818            99.726961  \n",
       "min            0.451000           344.000000  \n",
       "25%            0.529750           509.500000  \n",
       "50%            0.564500           568.500000  \n",
       "75%            0.595250           632.750000  \n",
       "max            0.693400           817.625000  "
      ]
     },
     "execution_count": 49,
     "metadata": {},
     "output_type": "execute_result"
    }
   ],
   "source": [
    "data_model.describe()"
   ]
  },
  {
   "cell_type": "code",
   "execution_count": 50,
   "id": "5aca2fc4",
   "metadata": {},
   "outputs": [
    {
     "data": {
      "text/plain": [
       "<Axes: >"
      ]
     },
     "execution_count": 50,
     "metadata": {},
     "output_type": "execute_result"
    },
    {
     "data": {
      "image/png": "[encoded data removed]",
      "text/plain": [
       "<Figure size 640x480 with 1 Axes>"
      ]
     },
     "metadata": {},
     "output_type": "display_data"
    }
   ],
   "source": [
    "data_model.plot (kind = \"box\")"
   ]
  },
  {
   "cell_type": "code",
   "execution_count": 51,
   "id": "454a93b3",
   "metadata": {},
   "outputs": [],
   "source": [
    "x = data_model[[\"petrol_tax_dummy1\", \"Average income (dollars)\", \"paved_highway_dummy\", \"dr_license_dummy\"]]"
   ]
  },
  {
   "cell_type": "code",
   "execution_count": 52,
   "id": "b5a0ce7c",
   "metadata": {},
   "outputs": [],
   "source": [
    "y = data_model[[\"petrol_consmp_dummy\"]]"
   ]
  },
  {
   "cell_type": "code",
   "execution_count": 53,
   "id": "db1f04e8",
   "metadata": {},
   "outputs": [],
   "source": [
    "from sklearn.model_selection import train_test_split"
   ]
  },
  {
   "cell_type": "code",
   "execution_count": 54,
   "id": "8fc26f63",
   "metadata": {},
   "outputs": [],
   "source": [
    "x_train, x_test, y_train, y_test = train_test_split(x,y, test_size = 0.3, random_state = 0)"
   ]
  },
  {
   "cell_type": "code",
   "execution_count": 55,
   "id": "ac486f5e",
   "metadata": {},
   "outputs": [
    {
     "data": {
      "text/plain": [
       "(33, 4)"
      ]
     },
     "execution_count": 55,
     "metadata": {},
     "output_type": "execute_result"
    }
   ],
   "source": [
    "x_train.shape"
   ]
  },
  {
   "cell_type": "code",
   "execution_count": 56,
   "id": "79da6300",
   "metadata": {},
   "outputs": [
    {
     "data": {
      "text/plain": [
       "(33, 1)"
      ]
     },
     "execution_count": 56,
     "metadata": {},
     "output_type": "execute_result"
    }
   ],
   "source": [
    "y_train.shape"
   ]
  },
  {
   "cell_type": "code",
   "execution_count": 57,
   "id": "c2d47c07",
   "metadata": {},
   "outputs": [
    {
     "data": {
      "text/plain": [
       "(15, 4)"
      ]
     },
     "execution_count": 57,
     "metadata": {},
     "output_type": "execute_result"
    }
   ],
   "source": [
    "x_test.shape"
   ]
  },
  {
   "cell_type": "code",
   "execution_count": 58,
   "id": "9e96169a",
   "metadata": {},
   "outputs": [
    {
     "data": {
      "text/plain": [
       "(15, 1)"
      ]
     },
     "execution_count": 58,
     "metadata": {},
     "output_type": "execute_result"
    }
   ],
   "source": [
    "y_test.shape"
   ]
  },
  {
   "cell_type": "code",
   "execution_count": 59,
   "id": "2d0b050d",
   "metadata": {},
   "outputs": [],
   "source": [
    "from sklearn.linear_model import LinearRegression"
   ]
  },
  {
   "cell_type": "code",
   "execution_count": 60,
   "id": "5f2375ba",
   "metadata": {},
   "outputs": [],
   "source": [
    "reg = LinearRegression()"
   ]
  },
  {
   "cell_type": "code",
   "execution_count": 61,
   "id": "6d38d603",
   "metadata": {},
   "outputs": [
    {
     "data": {
      "text/html": [
       "<style>#sk-container-id-1 {color: black;background-color: white;}#sk-container-id-1 pre{padding: 0;}#sk-container-id-1 div.sk-toggleable {background-color: white;}#sk-container-id-1 label.sk-toggleable__label {cursor: pointer;display: block;width: 100%;margin-bottom: 0;padding: 0.3em;box-sizing: border-box;text-align: center;}#sk-container-id-1 label.sk-toggleable__label-arrow:before {content: \"▸\";float: left;margin-right: 0.25em;color: #696969;}#sk-container-id-1 label.sk-toggleable__label-arrow:hover:before {color: black;}#sk-container-id-1 div.sk-estimator:hover label.sk-toggleable__label-arrow:before {color: black;}#sk-container-id-1 div.sk-toggleable__content {max-height: 0;max-width: 0;overflow: hidden;text-align: left;background-color: #f0f8ff;}#sk-container-id-1 div.sk-toggleable__content pre {margin: 0.2em;color: black;border-radius: 0.25em;background-color: #f0f8ff;}#sk-container-id-1 input.sk-toggleable__control:checked~div.sk-toggleable__content {max-height: 200px;max-width: 100%;overflow: auto;}#sk-container-id-1 input.sk-toggleable__control:checked~label.sk-toggleable__label-arrow:before {content: \"▾\";}#sk-container-id-1 div.sk-estimator input.sk-toggleable__control:checked~label.sk-toggleable__label {background-color: #d4ebff;}#sk-container-id-1 div.sk-label input.sk-toggleable__control:checked~label.sk-toggleable__label {background-color: #d4ebff;}#sk-container-id-1 input.sk-hidden--visually {border: 0;clip: rect(1px 1px 1px 1px);clip: rect(1px, 1px, 1px, 1px);height: 1px;margin: -1px;overflow: hidden;padding: 0;position: absolute;width: 1px;}#sk-container-id-1 div.sk-estimator {font-family: monospace;background-color: #f0f8ff;border: 1px dotted black;border-radius: 0.25em;box-sizing: border-box;margin-bottom: 0.5em;}#sk-container-id-1 div.sk-estimator:hover {background-color: #d4ebff;}#sk-container-id-1 div.sk-parallel-item::after {content: \"\";width: 100%;border-bottom: 1px solid gray;flex-grow: 1;}#sk-container-id-1 div.sk-label:hover label.sk-toggleable__label {background-color: #d4ebff;}#sk-container-id-1 div.sk-serial::before {content: \"\";position: absolute;border-left: 1px solid gray;box-sizing: border-box;top: 0;bottom: 0;left: 50%;z-index: 0;}#sk-container-id-1 div.sk-serial {display: flex;flex-direction: column;align-items: center;background-color: white;padding-right: 0.2em;padding-left: 0.2em;position: relative;}#sk-container-id-1 div.sk-item {position: relative;z-index: 1;}#sk-container-id-1 div.sk-parallel {display: flex;align-items: stretch;justify-content: center;background-color: white;position: relative;}#sk-container-id-1 div.sk-item::before, #sk-container-id-1 div.sk-parallel-item::before {content: \"\";position: absolute;border-left: 1px solid gray;box-sizing: border-box;top: 0;bottom: 0;left: 50%;z-index: -1;}#sk-container-id-1 div.sk-parallel-item {display: flex;flex-direction: column;z-index: 1;position: relative;background-color: white;}#sk-container-id-1 div.sk-parallel-item:first-child::after {align-self: flex-end;width: 50%;}#sk-container-id-1 div.sk-parallel-item:last-child::after {align-self: flex-start;width: 50%;}#sk-container-id-1 div.sk-parallel-item:only-child::after {width: 0;}#sk-container-id-1 div.sk-dashed-wrapped {border: 1px dashed gray;margin: 0 0.4em 0.5em 0.4em;box-sizing: border-box;padding-bottom: 0.4em;background-color: white;}#sk-container-id-1 div.sk-label label {font-family: monospace;font-weight: bold;display: inline-block;line-height: 1.2em;}#sk-container-id-1 div.sk-label-container {text-align: center;}#sk-container-id-1 div.sk-container {/* jupyter's `normalize.less` sets `[hidden] { display: none; }` but bootstrap.min.css set `[hidden] { display: none !important; }` so we also need the `!important` here to be able to override the default hidden behavior on the sphinx rendered scikit-learn.org. See: https://github.com/scikit-learn/scikit-learn/issues/21755 */display: inline-block !important;position: relative;}#sk-container-id-1 div.sk-text-repr-fallback {display: none;}</style><div id=\"sk-container-id-1\" class=\"sk-top-container\"><div class=\"sk-text-repr-fallback\"><pre>LinearRegression()</pre><b>In a Jupyter environment, please rerun this cell to show the HTML representation or trust the notebook. <br />On GitHub, the HTML representation is unable to render, please try loading this page with nbviewer.org.</b></div><div class=\"sk-container\" hidden><div class=\"sk-item\"><div class=\"sk-estimator sk-toggleable\"><input class=\"sk-toggleable__control sk-hidden--visually\" id=\"sk-estimator-id-1\" type=\"checkbox\" checked><label for=\"sk-estimator-id-1\" class=\"sk-toggleable__label sk-toggleable__label-arrow\">LinearRegression</label><div class=\"sk-toggleable__content\"><pre>LinearRegression()</pre></div></div></div></div></div>"
      ],
      "text/plain": [
       "LinearRegression()"
      ]
     },
     "execution_count": 61,
     "metadata": {},
     "output_type": "execute_result"
    }
   ],
   "source": [
    "reg.fit(x_train,y_train)"
   ]
  },
  {
   "cell_type": "code",
   "execution_count": 62,
   "id": "79c41935",
   "metadata": {},
   "outputs": [
    {
     "data": {
      "text/plain": [
       "array([[-4.18400024e+01, -6.80280584e-02, -5.60494126e-03,\n",
       "         1.17708079e+03]])"
      ]
     },
     "execution_count": 62,
     "metadata": {},
     "output_type": "execute_result"
    }
   ],
   "source": [
    "reg.coef_"
   ]
  },
  {
   "cell_type": "code",
   "execution_count": 63,
   "id": "90b0df85",
   "metadata": {},
   "outputs": [
    {
     "data": {
      "text/plain": [
       "array([545.73754815])"
      ]
     },
     "execution_count": 63,
     "metadata": {},
     "output_type": "execute_result"
    }
   ],
   "source": [
    "reg.intercept_"
   ]
  },
  {
   "cell_type": "code",
   "execution_count": 64,
   "id": "a219bee9",
   "metadata": {},
   "outputs": [
    {
     "data": {
      "text/plain": [
       "<bound method RegressorMixin.score of LinearRegression()>"
      ]
     },
     "execution_count": 64,
     "metadata": {},
     "output_type": "execute_result"
    }
   ],
   "source": [
    "reg.score"
   ]
  },
  {
   "cell_type": "code",
   "execution_count": 65,
   "id": "78f089c1",
   "metadata": {},
   "outputs": [],
   "source": [
    "preds = reg.predict(x_test)"
   ]
  },
  {
   "cell_type": "code",
   "execution_count": 66,
   "id": "b3382a6c",
   "metadata": {},
   "outputs": [
    {
     "data": {
      "text/plain": [
       "array([[478.44634064],\n",
       "       [549.67831998],\n",
       "       [591.23597846],\n",
       "       [576.26112846],\n",
       "       [646.43364572],\n",
       "       [641.73398064],\n",
       "       [524.66361376],\n",
       "       [661.05195146],\n",
       "       [501.24801392],\n",
       "       [502.87139692],\n",
       "       [427.06987112],\n",
       "       [593.00347516],\n",
       "       [624.33256714],\n",
       "       [601.04502205],\n",
       "       [555.69529691]])"
      ]
     },
     "execution_count": 66,
     "metadata": {},
     "output_type": "execute_result"
    }
   ],
   "source": [
    "preds"
   ]
  },
  {
   "cell_type": "code",
   "execution_count": 67,
   "id": "61d9c0d4",
   "metadata": {},
   "outputs": [],
   "source": [
    "from sklearn import metrics"
   ]
  },
  {
   "cell_type": "code",
   "execution_count": 68,
   "id": "1a7d7884",
   "metadata": {},
   "outputs": [
    {
     "name": "stdout",
     "output_type": "stream",
     "text": [
      "mean absolute error: 47.85148302230434\n",
      "mean squared error: 3394.3420080560363\n",
      "root mean squared error: 58.26098186656346\n",
      "r square: 0.3472062131496011\n"
     ]
    }
   ],
   "source": [
    "print(\"mean absolute error:\", metrics.mean_absolute_error(y_test,preds))\n",
    "print(\"mean squared error:\", metrics.mean_squared_error(y_test,preds))\n",
    "print(\"root mean squared error:\", np.sqrt(metrics.mean_squared_error(y_test,preds)))\n",
    "print(\"r square:\", metrics.r2_score(y_test,preds))"
   ]
  },
  {
   "cell_type": "code",
   "execution_count": 69,
   "id": "197ed595",
   "metadata": {},
   "outputs": [],
   "source": [
    "from sklearn.tree import DecisionTreeRegressor"
   ]
  },
  {
   "cell_type": "code",
   "execution_count": 70,
   "id": "42388390",
   "metadata": {},
   "outputs": [],
   "source": [
    "dtc = DecisionTreeRegressor()"
   ]
  },
  {
   "cell_type": "code",
   "execution_count": 71,
   "id": "5f8f2569",
   "metadata": {},
   "outputs": [
    {
     "data": {
      "text/html": [
       "<style>#sk-container-id-2 {color: black;background-color: white;}#sk-container-id-2 pre{padding: 0;}#sk-container-id-2 div.sk-toggleable {background-color: white;}#sk-container-id-2 label.sk-toggleable__label {cursor: pointer;display: block;width: 100%;margin-bottom: 0;padding: 0.3em;box-sizing: border-box;text-align: center;}#sk-container-id-2 label.sk-toggleable__label-arrow:before {content: \"▸\";float: left;margin-right: 0.25em;color: #696969;}#sk-container-id-2 label.sk-toggleable__label-arrow:hover:before {color: black;}#sk-container-id-2 div.sk-estimator:hover label.sk-toggleable__label-arrow:before {color: black;}#sk-container-id-2 div.sk-toggleable__content {max-height: 0;max-width: 0;overflow: hidden;text-align: left;background-color: #f0f8ff;}#sk-container-id-2 div.sk-toggleable__content pre {margin: 0.2em;color: black;border-radius: 0.25em;background-color: #f0f8ff;}#sk-container-id-2 input.sk-toggleable__control:checked~div.sk-toggleable__content {max-height: 200px;max-width: 100%;overflow: auto;}#sk-container-id-2 input.sk-toggleable__control:checked~label.sk-toggleable__label-arrow:before {content: \"▾\";}#sk-container-id-2 div.sk-estimator input.sk-toggleable__control:checked~label.sk-toggleable__label {background-color: #d4ebff;}#sk-container-id-2 div.sk-label input.sk-toggleable__control:checked~label.sk-toggleable__label {background-color: #d4ebff;}#sk-container-id-2 input.sk-hidden--visually {border: 0;clip: rect(1px 1px 1px 1px);clip: rect(1px, 1px, 1px, 1px);height: 1px;margin: -1px;overflow: hidden;padding: 0;position: absolute;width: 1px;}#sk-container-id-2 div.sk-estimator {font-family: monospace;background-color: #f0f8ff;border: 1px dotted black;border-radius: 0.25em;box-sizing: border-box;margin-bottom: 0.5em;}#sk-container-id-2 div.sk-estimator:hover {background-color: #d4ebff;}#sk-container-id-2 div.sk-parallel-item::after {content: \"\";width: 100%;border-bottom: 1px solid gray;flex-grow: 1;}#sk-container-id-2 div.sk-label:hover label.sk-toggleable__label {background-color: #d4ebff;}#sk-container-id-2 div.sk-serial::before {content: \"\";position: absolute;border-left: 1px solid gray;box-sizing: border-box;top: 0;bottom: 0;left: 50%;z-index: 0;}#sk-container-id-2 div.sk-serial {display: flex;flex-direction: column;align-items: center;background-color: white;padding-right: 0.2em;padding-left: 0.2em;position: relative;}#sk-container-id-2 div.sk-item {position: relative;z-index: 1;}#sk-container-id-2 div.sk-parallel {display: flex;align-items: stretch;justify-content: center;background-color: white;position: relative;}#sk-container-id-2 div.sk-item::before, #sk-container-id-2 div.sk-parallel-item::before {content: \"\";position: absolute;border-left: 1px solid gray;box-sizing: border-box;top: 0;bottom: 0;left: 50%;z-index: -1;}#sk-container-id-2 div.sk-parallel-item {display: flex;flex-direction: column;z-index: 1;position: relative;background-color: white;}#sk-container-id-2 div.sk-parallel-item:first-child::after {align-self: flex-end;width: 50%;}#sk-container-id-2 div.sk-parallel-item:last-child::after {align-self: flex-start;width: 50%;}#sk-container-id-2 div.sk-parallel-item:only-child::after {width: 0;}#sk-container-id-2 div.sk-dashed-wrapped {border: 1px dashed gray;margin: 0 0.4em 0.5em 0.4em;box-sizing: border-box;padding-bottom: 0.4em;background-color: white;}#sk-container-id-2 div.sk-label label {font-family: monospace;font-weight: bold;display: inline-block;line-height: 1.2em;}#sk-container-id-2 div.sk-label-container {text-align: center;}#sk-container-id-2 div.sk-container {/* jupyter's `normalize.less` sets `[hidden] { display: none; }` but bootstrap.min.css set `[hidden] { display: none !important; }` so we also need the `!important` here to be able to override the default hidden behavior on the sphinx rendered scikit-learn.org. See: https://github.com/scikit-learn/scikit-learn/issues/21755 */display: inline-block !important;position: relative;}#sk-container-id-2 div.sk-text-repr-fallback {display: none;}</style><div id=\"sk-container-id-2\" class=\"sk-top-container\"><div class=\"sk-text-repr-fallback\"><pre>DecisionTreeRegressor()</pre><b>In a Jupyter environment, please rerun this cell to show the HTML representation or trust the notebook. <br />On GitHub, the HTML representation is unable to render, please try loading this page with nbviewer.org.</b></div><div class=\"sk-container\" hidden><div class=\"sk-item\"><div class=\"sk-estimator sk-toggleable\"><input class=\"sk-toggleable__control sk-hidden--visually\" id=\"sk-estimator-id-2\" type=\"checkbox\" checked><label for=\"sk-estimator-id-2\" class=\"sk-toggleable__label sk-toggleable__label-arrow\">DecisionTreeRegressor</label><div class=\"sk-toggleable__content\"><pre>DecisionTreeRegressor()</pre></div></div></div></div></div>"
      ],
      "text/plain": [
       "DecisionTreeRegressor()"
      ]
     },
     "execution_count": 71,
     "metadata": {},
     "output_type": "execute_result"
    }
   ],
   "source": [
    "dtc.fit(x_train,y_train)"
   ]
  },
  {
   "cell_type": "code",
   "execution_count": 72,
   "id": "be8eb8a2",
   "metadata": {},
   "outputs": [],
   "source": [
    "preds_dtc = dtc.predict(x_test)"
   ]
  },
  {
   "cell_type": "code",
   "execution_count": 73,
   "id": "55b1be2f",
   "metadata": {},
   "outputs": [
    {
     "data": {
      "text/plain": [
       "array([541., 414., 574., 714., 574., 603., 541., 510., 540., 464., 344.,\n",
       "       714., 714., 603., 525.])"
      ]
     },
     "execution_count": 73,
     "metadata": {},
     "output_type": "execute_result"
    }
   ],
   "source": [
    "preds_dtc"
   ]
  },
  {
   "cell_type": "code",
   "execution_count": 74,
   "id": "806f0649",
   "metadata": {},
   "outputs": [
    {
     "name": "stdout",
     "output_type": "stream",
     "text": [
      "mean absolute error: 65.53333333333333\n",
      "mean squared error: 7218.2\n",
      "root mean squared error: 84.95999058380362\n",
      "r square: -0.3881913198670699\n"
     ]
    }
   ],
   "source": [
    "print(\"mean absolute error:\", metrics.mean_absolute_error(y_test,preds_dtc))\n",
    "print(\"mean squared error:\", metrics.mean_squared_error(y_test,preds_dtc))\n",
    "print(\"root mean squared error:\", np.sqrt(metrics.mean_squared_error(y_test,preds_dtc)))\n",
    "print(\"r square:\", metrics.r2_score(y_test,preds_dtc))"
   ]
  },
  {
   "cell_type": "code",
   "execution_count": 75,
   "id": "893a1291",
   "metadata": {},
   "outputs": [],
   "source": [
    "from sklearn.ensemble import RandomForestRegressor"
   ]
  },
  {
   "cell_type": "code",
   "execution_count": 76,
   "id": "08189c6e",
   "metadata": {},
   "outputs": [],
   "source": [
    "rfc = RandomForestRegressor()"
   ]
  },
  {
   "cell_type": "code",
   "execution_count": 77,
   "id": "3cce5197",
   "metadata": {},
   "outputs": [
    {
     "name": "stderr",
     "output_type": "stream",
     "text": [
      "C:\\Users\\SHREE\\AppData\\Local\\Temp\\ipykernel_3732\\4070307935.py:1: DataConversionWarning: A column-vector y was passed when a 1d array was expected. Please change the shape of y to (n_samples,), for example using ravel().\n",
      "  rfc.fit(x_train,y_train)\n"
     ]
    },
    {
     "data": {
      "text/html": [
       "<style>#sk-container-id-3 {color: black;background-color: white;}#sk-container-id-3 pre{padding: 0;}#sk-container-id-3 div.sk-toggleable {background-color: white;}#sk-container-id-3 label.sk-toggleable__label {cursor: pointer;display: block;width: 100%;margin-bottom: 0;padding: 0.3em;box-sizing: border-box;text-align: center;}#sk-container-id-3 label.sk-toggleable__label-arrow:before {content: \"▸\";float: left;margin-right: 0.25em;color: #696969;}#sk-container-id-3 label.sk-toggleable__label-arrow:hover:before {color: black;}#sk-container-id-3 div.sk-estimator:hover label.sk-toggleable__label-arrow:before {color: black;}#sk-container-id-3 div.sk-toggleable__content {max-height: 0;max-width: 0;overflow: hidden;text-align: left;background-color: #f0f8ff;}#sk-container-id-3 div.sk-toggleable__content pre {margin: 0.2em;color: black;border-radius: 0.25em;background-color: #f0f8ff;}#sk-container-id-3 input.sk-toggleable__control:checked~div.sk-toggleable__content {max-height: 200px;max-width: 100%;overflow: auto;}#sk-container-id-3 input.sk-toggleable__control:checked~label.sk-toggleable__label-arrow:before {content: \"▾\";}#sk-container-id-3 div.sk-estimator input.sk-toggleable__control:checked~label.sk-toggleable__label {background-color: #d4ebff;}#sk-container-id-3 div.sk-label input.sk-toggleable__control:checked~label.sk-toggleable__label {background-color: #d4ebff;}#sk-container-id-3 input.sk-hidden--visually {border: 0;clip: rect(1px 1px 1px 1px);clip: rect(1px, 1px, 1px, 1px);height: 1px;margin: -1px;overflow: hidden;padding: 0;position: absolute;width: 1px;}#sk-container-id-3 div.sk-estimator {font-family: monospace;background-color: #f0f8ff;border: 1px dotted black;border-radius: 0.25em;box-sizing: border-box;margin-bottom: 0.5em;}#sk-container-id-3 div.sk-estimator:hover {background-color: #d4ebff;}#sk-container-id-3 div.sk-parallel-item::after {content: \"\";width: 100%;border-bottom: 1px solid gray;flex-grow: 1;}#sk-container-id-3 div.sk-label:hover label.sk-toggleable__label {background-color: #d4ebff;}#sk-container-id-3 div.sk-serial::before {content: \"\";position: absolute;border-left: 1px solid gray;box-sizing: border-box;top: 0;bottom: 0;left: 50%;z-index: 0;}#sk-container-id-3 div.sk-serial {display: flex;flex-direction: column;align-items: center;background-color: white;padding-right: 0.2em;padding-left: 0.2em;position: relative;}#sk-container-id-3 div.sk-item {position: relative;z-index: 1;}#sk-container-id-3 div.sk-parallel {display: flex;align-items: stretch;justify-content: center;background-color: white;position: relative;}#sk-container-id-3 div.sk-item::before, #sk-container-id-3 div.sk-parallel-item::before {content: \"\";position: absolute;border-left: 1px solid gray;box-sizing: border-box;top: 0;bottom: 0;left: 50%;z-index: -1;}#sk-container-id-3 div.sk-parallel-item {display: flex;flex-direction: column;z-index: 1;position: relative;background-color: white;}#sk-container-id-3 div.sk-parallel-item:first-child::after {align-self: flex-end;width: 50%;}#sk-container-id-3 div.sk-parallel-item:last-child::after {align-self: flex-start;width: 50%;}#sk-container-id-3 div.sk-parallel-item:only-child::after {width: 0;}#sk-container-id-3 div.sk-dashed-wrapped {border: 1px dashed gray;margin: 0 0.4em 0.5em 0.4em;box-sizing: border-box;padding-bottom: 0.4em;background-color: white;}#sk-container-id-3 div.sk-label label {font-family: monospace;font-weight: bold;display: inline-block;line-height: 1.2em;}#sk-container-id-3 div.sk-label-container {text-align: center;}#sk-container-id-3 div.sk-container {/* jupyter's `normalize.less` sets `[hidden] { display: none; }` but bootstrap.min.css set `[hidden] { display: none !important; }` so we also need the `!important` here to be able to override the default hidden behavior on the sphinx rendered scikit-learn.org. See: https://github.com/scikit-learn/scikit-learn/issues/21755 */display: inline-block !important;position: relative;}#sk-container-id-3 div.sk-text-repr-fallback {display: none;}</style><div id=\"sk-container-id-3\" class=\"sk-top-container\"><div class=\"sk-text-repr-fallback\"><pre>RandomForestRegressor()</pre><b>In a Jupyter environment, please rerun this cell to show the HTML representation or trust the notebook. <br />On GitHub, the HTML representation is unable to render, please try loading this page with nbviewer.org.</b></div><div class=\"sk-container\" hidden><div class=\"sk-item\"><div class=\"sk-estimator sk-toggleable\"><input class=\"sk-toggleable__control sk-hidden--visually\" id=\"sk-estimator-id-3\" type=\"checkbox\" checked><label for=\"sk-estimator-id-3\" class=\"sk-toggleable__label sk-toggleable__label-arrow\">RandomForestRegressor</label><div class=\"sk-toggleable__content\"><pre>RandomForestRegressor()</pre></div></div></div></div></div>"
      ],
      "text/plain": [
       "RandomForestRegressor()"
      ]
     },
     "execution_count": 77,
     "metadata": {},
     "output_type": "execute_result"
    }
   ],
   "source": [
    "rfc.fit(x_train,y_train)"
   ]
  },
  {
   "cell_type": "code",
   "execution_count": 78,
   "id": "13724e65",
   "metadata": {},
   "outputs": [],
   "source": [
    "preds_rfc = rfc.predict(x_test)"
   ]
  },
  {
   "cell_type": "code",
   "execution_count": 79,
   "id": "73e01a66",
   "metadata": {},
   "outputs": [
    {
     "data": {
      "text/plain": [
       "array([578.2    , 493.58625, 613.29   , 643.02   , 625.88   , 604.45   ,\n",
       "       603.87   , 619.2275 , 458.12   , 511.8925 , 430.28625, 638.97   ,\n",
       "       644.38   , 607.26   , 568.67875])"
      ]
     },
     "execution_count": 79,
     "metadata": {},
     "output_type": "execute_result"
    }
   ],
   "source": [
    "preds_rfc"
   ]
  },
  {
   "cell_type": "code",
   "execution_count": 80,
   "id": "64960a02",
   "metadata": {},
   "outputs": [
    {
     "name": "stdout",
     "output_type": "stream",
     "text": [
      "mean absolute error: 54.739583333333336\n",
      "mean squared error: 3924.2593494791668\n",
      "root mean squared error: 62.643909117161314\n",
      "r square: 0.2452934573918465\n"
     ]
    }
   ],
   "source": [
    "print(\"mean absolute error:\", metrics.mean_absolute_error(y_test,preds_rfc))\n",
    "print(\"mean squared error:\", metrics.mean_squared_error(y_test,preds_rfc))\n",
    "print(\"root mean squared error:\", np.sqrt(metrics.mean_squared_error(y_test,preds_rfc)))\n",
    "print(\"r square:\", metrics.r2_score(y_test,preds_rfc))"
   ]
  },
  {
   "cell_type": "code",
   "execution_count": 81,
   "id": "896a0db3",
   "metadata": {},
   "outputs": [],
   "source": [
    "from sklearn.ensemble import GradientBoostingRegressor"
   ]
  },
  {
   "cell_type": "code",
   "execution_count": 82,
   "id": "78df3981",
   "metadata": {},
   "outputs": [],
   "source": [
    "gbr = GradientBoostingRegressor()"
   ]
  },
  {
   "cell_type": "code",
   "execution_count": 83,
   "id": "2bd66d59",
   "metadata": {},
   "outputs": [
    {
     "name": "stderr",
     "output_type": "stream",
     "text": [
      "D:\\Program ana\\lib\\site-packages\\sklearn\\ensemble\\_gb.py:437: DataConversionWarning: A column-vector y was passed when a 1d array was expected. Please change the shape of y to (n_samples, ), for example using ravel().\n",
      "  y = column_or_1d(y, warn=True)\n"
     ]
    },
    {
     "data": {
      "text/html": [
       "<style>#sk-container-id-4 {color: black;background-color: white;}#sk-container-id-4 pre{padding: 0;}#sk-container-id-4 div.sk-toggleable {background-color: white;}#sk-container-id-4 label.sk-toggleable__label {cursor: pointer;display: block;width: 100%;margin-bottom: 0;padding: 0.3em;box-sizing: border-box;text-align: center;}#sk-container-id-4 label.sk-toggleable__label-arrow:before {content: \"▸\";float: left;margin-right: 0.25em;color: #696969;}#sk-container-id-4 label.sk-toggleable__label-arrow:hover:before {color: black;}#sk-container-id-4 div.sk-estimator:hover label.sk-toggleable__label-arrow:before {color: black;}#sk-container-id-4 div.sk-toggleable__content {max-height: 0;max-width: 0;overflow: hidden;text-align: left;background-color: #f0f8ff;}#sk-container-id-4 div.sk-toggleable__content pre {margin: 0.2em;color: black;border-radius: 0.25em;background-color: #f0f8ff;}#sk-container-id-4 input.sk-toggleable__control:checked~div.sk-toggleable__content {max-height: 200px;max-width: 100%;overflow: auto;}#sk-container-id-4 input.sk-toggleable__control:checked~label.sk-toggleable__label-arrow:before {content: \"▾\";}#sk-container-id-4 div.sk-estimator input.sk-toggleable__control:checked~label.sk-toggleable__label {background-color: #d4ebff;}#sk-container-id-4 div.sk-label input.sk-toggleable__control:checked~label.sk-toggleable__label {background-color: #d4ebff;}#sk-container-id-4 input.sk-hidden--visually {border: 0;clip: rect(1px 1px 1px 1px);clip: rect(1px, 1px, 1px, 1px);height: 1px;margin: -1px;overflow: hidden;padding: 0;position: absolute;width: 1px;}#sk-container-id-4 div.sk-estimator {font-family: monospace;background-color: #f0f8ff;border: 1px dotted black;border-radius: 0.25em;box-sizing: border-box;margin-bottom: 0.5em;}#sk-container-id-4 div.sk-estimator:hover {background-color: #d4ebff;}#sk-container-id-4 div.sk-parallel-item::after {content: \"\";width: 100%;border-bottom: 1px solid gray;flex-grow: 1;}#sk-container-id-4 div.sk-label:hover label.sk-toggleable__label {background-color: #d4ebff;}#sk-container-id-4 div.sk-serial::before {content: \"\";position: absolute;border-left: 1px solid gray;box-sizing: border-box;top: 0;bottom: 0;left: 50%;z-index: 0;}#sk-container-id-4 div.sk-serial {display: flex;flex-direction: column;align-items: center;background-color: white;padding-right: 0.2em;padding-left: 0.2em;position: relative;}#sk-container-id-4 div.sk-item {position: relative;z-index: 1;}#sk-container-id-4 div.sk-parallel {display: flex;align-items: stretch;justify-content: center;background-color: white;position: relative;}#sk-container-id-4 div.sk-item::before, #sk-container-id-4 div.sk-parallel-item::before {content: \"\";position: absolute;border-left: 1px solid gray;box-sizing: border-box;top: 0;bottom: 0;left: 50%;z-index: -1;}#sk-container-id-4 div.sk-parallel-item {display: flex;flex-direction: column;z-index: 1;position: relative;background-color: white;}#sk-container-id-4 div.sk-parallel-item:first-child::after {align-self: flex-end;width: 50%;}#sk-container-id-4 div.sk-parallel-item:last-child::after {align-self: flex-start;width: 50%;}#sk-container-id-4 div.sk-parallel-item:only-child::after {width: 0;}#sk-container-id-4 div.sk-dashed-wrapped {border: 1px dashed gray;margin: 0 0.4em 0.5em 0.4em;box-sizing: border-box;padding-bottom: 0.4em;background-color: white;}#sk-container-id-4 div.sk-label label {font-family: monospace;font-weight: bold;display: inline-block;line-height: 1.2em;}#sk-container-id-4 div.sk-label-container {text-align: center;}#sk-container-id-4 div.sk-container {/* jupyter's `normalize.less` sets `[hidden] { display: none; }` but bootstrap.min.css set `[hidden] { display: none !important; }` so we also need the `!important` here to be able to override the default hidden behavior on the sphinx rendered scikit-learn.org. See: https://github.com/scikit-learn/scikit-learn/issues/21755 */display: inline-block !important;position: relative;}#sk-container-id-4 div.sk-text-repr-fallback {display: none;}</style><div id=\"sk-container-id-4\" class=\"sk-top-container\"><div class=\"sk-text-repr-fallback\"><pre>GradientBoostingRegressor()</pre><b>In a Jupyter environment, please rerun this cell to show the HTML representation or trust the notebook. <br />On GitHub, the HTML representation is unable to render, please try loading this page with nbviewer.org.</b></div><div class=\"sk-container\" hidden><div class=\"sk-item\"><div class=\"sk-estimator sk-toggleable\"><input class=\"sk-toggleable__control sk-hidden--visually\" id=\"sk-estimator-id-4\" type=\"checkbox\" checked><label for=\"sk-estimator-id-4\" class=\"sk-toggleable__label sk-toggleable__label-arrow\">GradientBoostingRegressor</label><div class=\"sk-toggleable__content\"><pre>GradientBoostingRegressor()</pre></div></div></div></div></div>"
      ],
      "text/plain": [
       "GradientBoostingRegressor()"
      ]
     },
     "execution_count": 83,
     "metadata": {},
     "output_type": "execute_result"
    }
   ],
   "source": [
    "gbr.fit(x_train,y_train)"
   ]
  },
  {
   "cell_type": "code",
   "execution_count": 84,
   "id": "8acb8a0a",
   "metadata": {},
   "outputs": [],
   "source": [
    "preds_gbr = gbr.predict(x_test)"
   ]
  },
  {
   "cell_type": "code",
   "execution_count": 85,
   "id": "2271cc0f",
   "metadata": {},
   "outputs": [
    {
     "data": {
      "text/plain": [
       "array([597.13398411, 444.33318063, 617.01056212, 642.12594418,\n",
       "       616.46776183, 607.53294366, 608.6334077 , 549.73961587,\n",
       "       461.38145689, 466.63625906, 417.87940803, 628.61339891,\n",
       "       629.08687048, 609.97949525, 559.04431989])"
      ]
     },
     "execution_count": 85,
     "metadata": {},
     "output_type": "execute_result"
    }
   ],
   "source": [
    "preds_gbr"
   ]
  },
  {
   "cell_type": "code",
   "execution_count": 86,
   "id": "4461a4e9",
   "metadata": {},
   "outputs": [
    {
     "name": "stdout",
     "output_type": "stream",
     "text": [
      "mean absolute error: 53.820016738730246\n",
      "mean squared error: 4120.936078230969\n",
      "root mean squared error: 64.19451750913755\n",
      "r square: 0.20746894052156017\n"
     ]
    }
   ],
   "source": [
    "print(\"mean absolute error:\", metrics.mean_absolute_error(y_test,preds_gbr))\n",
    "print(\"mean squared error:\", metrics.mean_squared_error(y_test,preds_gbr))\n",
    "print(\"root mean squared error:\", np.sqrt(metrics.mean_squared_error(y_test,preds_gbr)))\n",
    "print(\"r square:\", metrics.r2_score(y_test,preds_gbr))"
   ]
  },
  {
   "cell_type": "code",
   "execution_count": 87,
   "id": "7d06d8eb",
   "metadata": {},
   "outputs": [],
   "source": [
    "from sklearn.neighbors import KNeighborsRegressor"
   ]
  },
  {
   "cell_type": "code",
   "execution_count": 88,
   "id": "cf4e2332",
   "metadata": {},
   "outputs": [],
   "source": [
    "knn = KNeighborsRegressor()"
   ]
  },
  {
   "cell_type": "code",
   "execution_count": 89,
   "id": "d6c45ee9",
   "metadata": {},
   "outputs": [
    {
     "data": {
      "text/html": [
       "<style>#sk-container-id-5 {color: black;background-color: white;}#sk-container-id-5 pre{padding: 0;}#sk-container-id-5 div.sk-toggleable {background-color: white;}#sk-container-id-5 label.sk-toggleable__label {cursor: pointer;display: block;width: 100%;margin-bottom: 0;padding: 0.3em;box-sizing: border-box;text-align: center;}#sk-container-id-5 label.sk-toggleable__label-arrow:before {content: \"▸\";float: left;margin-right: 0.25em;color: #696969;}#sk-container-id-5 label.sk-toggleable__label-arrow:hover:before {color: black;}#sk-container-id-5 div.sk-estimator:hover label.sk-toggleable__label-arrow:before {color: black;}#sk-container-id-5 div.sk-toggleable__content {max-height: 0;max-width: 0;overflow: hidden;text-align: left;background-color: #f0f8ff;}#sk-container-id-5 div.sk-toggleable__content pre {margin: 0.2em;color: black;border-radius: 0.25em;background-color: #f0f8ff;}#sk-container-id-5 input.sk-toggleable__control:checked~div.sk-toggleable__content {max-height: 200px;max-width: 100%;overflow: auto;}#sk-container-id-5 input.sk-toggleable__control:checked~label.sk-toggleable__label-arrow:before {content: \"▾\";}#sk-container-id-5 div.sk-estimator input.sk-toggleable__control:checked~label.sk-toggleable__label {background-color: #d4ebff;}#sk-container-id-5 div.sk-label input.sk-toggleable__control:checked~label.sk-toggleable__label {background-color: #d4ebff;}#sk-container-id-5 input.sk-hidden--visually {border: 0;clip: rect(1px 1px 1px 1px);clip: rect(1px, 1px, 1px, 1px);height: 1px;margin: -1px;overflow: hidden;padding: 0;position: absolute;width: 1px;}#sk-container-id-5 div.sk-estimator {font-family: monospace;background-color: #f0f8ff;border: 1px dotted black;border-radius: 0.25em;box-sizing: border-box;margin-bottom: 0.5em;}#sk-container-id-5 div.sk-estimator:hover {background-color: #d4ebff;}#sk-container-id-5 div.sk-parallel-item::after {content: \"\";width: 100%;border-bottom: 1px solid gray;flex-grow: 1;}#sk-container-id-5 div.sk-label:hover label.sk-toggleable__label {background-color: #d4ebff;}#sk-container-id-5 div.sk-serial::before {content: \"\";position: absolute;border-left: 1px solid gray;box-sizing: border-box;top: 0;bottom: 0;left: 50%;z-index: 0;}#sk-container-id-5 div.sk-serial {display: flex;flex-direction: column;align-items: center;background-color: white;padding-right: 0.2em;padding-left: 0.2em;position: relative;}#sk-container-id-5 div.sk-item {position: relative;z-index: 1;}#sk-container-id-5 div.sk-parallel {display: flex;align-items: stretch;justify-content: center;background-color: white;position: relative;}#sk-container-id-5 div.sk-item::before, #sk-container-id-5 div.sk-parallel-item::before {content: \"\";position: absolute;border-left: 1px solid gray;box-sizing: border-box;top: 0;bottom: 0;left: 50%;z-index: -1;}#sk-container-id-5 div.sk-parallel-item {display: flex;flex-direction: column;z-index: 1;position: relative;background-color: white;}#sk-container-id-5 div.sk-parallel-item:first-child::after {align-self: flex-end;width: 50%;}#sk-container-id-5 div.sk-parallel-item:last-child::after {align-self: flex-start;width: 50%;}#sk-container-id-5 div.sk-parallel-item:only-child::after {width: 0;}#sk-container-id-5 div.sk-dashed-wrapped {border: 1px dashed gray;margin: 0 0.4em 0.5em 0.4em;box-sizing: border-box;padding-bottom: 0.4em;background-color: white;}#sk-container-id-5 div.sk-label label {font-family: monospace;font-weight: bold;display: inline-block;line-height: 1.2em;}#sk-container-id-5 div.sk-label-container {text-align: center;}#sk-container-id-5 div.sk-container {/* jupyter's `normalize.less` sets `[hidden] { display: none; }` but bootstrap.min.css set `[hidden] { display: none !important; }` so we also need the `!important` here to be able to override the default hidden behavior on the sphinx rendered scikit-learn.org. See: https://github.com/scikit-learn/scikit-learn/issues/21755 */display: inline-block !important;position: relative;}#sk-container-id-5 div.sk-text-repr-fallback {display: none;}</style><div id=\"sk-container-id-5\" class=\"sk-top-container\"><div class=\"sk-text-repr-fallback\"><pre>KNeighborsRegressor()</pre><b>In a Jupyter environment, please rerun this cell to show the HTML representation or trust the notebook. <br />On GitHub, the HTML representation is unable to render, please try loading this page with nbviewer.org.</b></div><div class=\"sk-container\" hidden><div class=\"sk-item\"><div class=\"sk-estimator sk-toggleable\"><input class=\"sk-toggleable__control sk-hidden--visually\" id=\"sk-estimator-id-5\" type=\"checkbox\" checked><label for=\"sk-estimator-id-5\" class=\"sk-toggleable__label sk-toggleable__label-arrow\">KNeighborsRegressor</label><div class=\"sk-toggleable__content\"><pre>KNeighborsRegressor()</pre></div></div></div></div></div>"
      ],
      "text/plain": [
       "KNeighborsRegressor()"
      ]
     },
     "execution_count": 89,
     "metadata": {},
     "output_type": "execute_result"
    }
   ],
   "source": [
    "knn.fit(x_train,y_train)"
   ]
  },
  {
   "cell_type": "code",
   "execution_count": 90,
   "id": "844a45a3",
   "metadata": {},
   "outputs": [],
   "source": [
    "preds_knn = knn.predict(x_test)"
   ]
  },
  {
   "cell_type": "code",
   "execution_count": 91,
   "id": "259f3bdd",
   "metadata": {},
   "outputs": [
    {
     "data": {
      "text/plain": [
       "array([[627.2  ],\n",
       "       [524.6  ],\n",
       "       [608.2  ],\n",
       "       [578.2  ],\n",
       "       [636.725],\n",
       "       [612.925],\n",
       "       [677.525],\n",
       "       [589.4  ],\n",
       "       [515.4  ],\n",
       "       [612.925],\n",
       "       [516.2  ],\n",
       "       [578.2  ],\n",
       "       [647.4  ],\n",
       "       [555.   ],\n",
       "       [553.2  ]])"
      ]
     },
     "execution_count": 91,
     "metadata": {},
     "output_type": "execute_result"
    }
   ],
   "source": [
    "preds_knn"
   ]
  },
  {
   "cell_type": "code",
   "execution_count": 92,
   "id": "c4a52ab0",
   "metadata": {},
   "outputs": [
    {
     "name": "stdout",
     "output_type": "stream",
     "text": [
      "mean absolute error: 57.68333333333335\n",
      "mean squared error: 5604.816166666668\n",
      "root mean squared error: 74.86532018676384\n",
      "r square: -0.07790822532172736\n"
     ]
    }
   ],
   "source": [
    "print(\"mean absolute error:\", metrics.mean_absolute_error(y_test,preds_knn))\n",
    "print(\"mean squared error:\", metrics.mean_squared_error(y_test,preds_knn))\n",
    "print(\"root mean squared error:\", np.sqrt(metrics.mean_squared_error(y_test,preds_knn)))\n",
    "print(\"r square:\", metrics.r2_score(y_test,preds_knn))"
   ]
  },
  {
   "cell_type": "markdown",
   "id": "3ce29e1a",
   "metadata": {},
   "source": [
    "The Linear Regression Model is performing well for this data set as the prediction error rate is less and the r square value is more as compared to other models."
   ]
  }
 ],
 "metadata": {
  "kernelspec": {
   "display_name": "Python 3 (ipykernel)",
   "language": "python",
   "name": "python3"
  },
  "language_info": {
   "codemirror_mode": {
    "name": "ipython",
    "version": 3
   },
   "file_extension": ".py",
   "mimetype": "text/x-python",
   "name": "python",
   "nbconvert_exporter": "python",
   "pygments_lexer": "ipython3",
   "version": "3.10.9"
  }
 },
 "nbformat": 4,
 "nbformat_minor": 5
}
